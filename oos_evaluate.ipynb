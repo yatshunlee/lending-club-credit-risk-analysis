{
 "cells": [
  {
   "cell_type": "code",
   "execution_count": 1,
   "id": "e2aa3b3a",
   "metadata": {},
   "outputs": [],
   "source": [
    "import json\n",
    "import mlflow\n",
    "import numpy as np\n",
    "import pandas as pd\n",
    "import mysql.connector\n",
    "import seaborn as sns\n",
    "import matplotlib.pyplot as plt\n",
    "from sklearn.metrics import classification_report, f1_score, confusion_matrix"
   ]
  },
  {
   "cell_type": "code",
   "execution_count": 58,
   "id": "6f2c5256",
   "metadata": {},
   "outputs": [],
   "source": [
    "import warnings\n",
    "warnings.filterwarnings('ignore')"
   ]
  },
  {
   "cell_type": "code",
   "execution_count": 59,
   "id": "c55c5026",
   "metadata": {
    "scrolled": true
   },
   "outputs": [
    {
     "name": "stdout",
     "output_type": "stream",
     "text": [
      "Connected to MySQL Server\n"
     ]
    }
   ],
   "source": [
    "with open('db_config.json', 'r') as json_file:\n",
    "    db_config = json.load(json_file)\n",
    "\n",
    "try:\n",
    "    # Attempt to connect to the MySQL server\n",
    "    connection = mysql.connector.connect(**db_config)\n",
    "\n",
    "    # Check if the connection is successful\n",
    "    if connection.is_connected():\n",
    "        print(\"Connected to MySQL Server\")\n",
    "    \n",
    "    df = pd.read_sql(\"SELECT * FROM matured_loan\", connection)\n",
    "\n",
    "    # Close the connection\n",
    "    connection.close()\n",
    "\n",
    "except mysql.connector.Error as err:\n",
    "    print(f\"Error: {err}\")\n",
    "    print(\"Failed to connect to MySQL Server\")"
   ]
  },
  {
   "cell_type": "code",
   "execution_count": 60,
   "id": "f54ba3e0",
   "metadata": {},
   "outputs": [],
   "source": [
    "irrelevant_columns = [\n",
    "    'id', 'initial_list_status', 'out_prncp', 'out_prncp_inv', 'total_pymnt',\n",
    "    'total_pymnt_inv', 'total_rec_prncp', 'total_rec_int', 'last_pymnt_to_income',\n",
    "    'total_rec_late_fee', 'recoveries', 'collection_recovery_fee', 'last_pymnt_amnt',\n",
    "    'is_matured_loan', 'calculated_installment', 'ROI', 'IRR', 'int_rate_bin', 'annual_inc_bin'\n",
    "] + [\n",
    "    'funded_amnt', 'funded_amnt_inv', 'debt_settlement_flag',\n",
    "    'last_pymnt_to_income', 'last_fico_range_high', \n",
    "    'last_fico_range_low', 'FICO_change'\n",
    "] + [\n",
    "    'purpose', 'title', 'zip_code', \"emp_title\"\n",
    "] + ['issue_d']"
   ]
  },
  {
   "cell_type": "code",
   "execution_count": 61,
   "id": "af299b26",
   "metadata": {},
   "outputs": [],
   "source": [
    "df = df.drop(irrelevant_columns, axis=1)"
   ]
  },
  {
   "cell_type": "code",
   "execution_count": 62,
   "id": "5c45731e",
   "metadata": {},
   "outputs": [],
   "source": [
    "df['emp_length_int'] = df['emp_length'].replace(\n",
    "    ['4 years', '2 years', '10+ years', \n",
    "     '3 years', '5 years', '6 years',\n",
    "     '1 year', '7 years', '< 1 year', \n",
    "     '9 years', '8 years'], [\n",
    "        4, 2, 10, 3, 5, 6, 1, 7, 1, 9, 8\n",
    "    ])"
   ]
  },
  {
   "cell_type": "code",
   "execution_count": 63,
   "id": "379e70b7",
   "metadata": {},
   "outputs": [],
   "source": [
    "categorical = [\n",
    "    \"term\", \"grade\", \"sub_grade\", \"emp_length\", \"home_ownership\",\n",
    "    \"verification_status\", \"addr_state\", \"application_type\", \"hardship_flag\"\n",
    "]\n",
    "\n",
    "df = pd.get_dummies(df, columns=categorical, prefix=categorical) #, drop_first=True)"
   ]
  },
  {
   "cell_type": "code",
   "execution_count": 64,
   "id": "d65047d3",
   "metadata": {},
   "outputs": [],
   "source": [
    "df[\"loan_status\"].replace([\"Fully Paid\", \"Charged Off\"], [0, 1], inplace=True)"
   ]
  },
  {
   "cell_type": "code",
   "execution_count": 65,
   "id": "14304e11",
   "metadata": {},
   "outputs": [],
   "source": [
    "def reduce_mem_usage(df):\n",
    "    \"\"\" iterate through all the columns of a dataframe and modify the data type\n",
    "        to reduce memory usage.        \n",
    "    \"\"\"\n",
    "    start_mem = df.memory_usage().sum() / 1024**2\n",
    "    print('Memory usage of dataframe is {:.2f} MB'.format(start_mem))\n",
    "    \n",
    "    for col in df.columns:\n",
    "        col_type = df[col].dtype\n",
    "        \n",
    "        if col_type != object:\n",
    "            c_min = df[col].min()\n",
    "            c_max = df[col].max()\n",
    "            if str(col_type)[:3] == 'int':\n",
    "                if c_min > np.iinfo(np.int8).min and c_max < np.iinfo(np.int8).max:\n",
    "                    df[col] = df[col].astype(np.int8)\n",
    "                elif c_min > np.iinfo(np.int16).min and c_max < np.iinfo(np.int16).max:\n",
    "                    df[col] = df[col].astype(np.int16)\n",
    "                elif c_min > np.iinfo(np.int32).min and c_max < np.iinfo(np.int32).max:\n",
    "                    df[col] = df[col].astype(np.int32)\n",
    "                elif c_min > np.iinfo(np.int64).min and c_max < np.iinfo(np.int64).max:\n",
    "                    df[col] = df[col].astype(np.int64)  \n",
    "            else:\n",
    "                if c_min > np.finfo(np.float16).min and c_max < np.finfo(np.float16).max:\n",
    "                    df[col] = df[col].astype(np.float16)\n",
    "                elif c_min > np.finfo(np.float32).min and c_max < np.finfo(np.float32).max:\n",
    "                    df[col] = df[col].astype(np.float32)\n",
    "                else:\n",
    "                    df[col] = df[col].astype(np.float64)\n",
    "        else:\n",
    "            df[col] = df[col].astype('category')\n",
    "\n",
    "    end_mem = df.memory_usage().sum() / 1024**2\n",
    "    print('Memory usage after optimization is: {:.2f} MB'.format(end_mem))\n",
    "    print('Decreased by {:.1f}%'.format(100 * (start_mem - end_mem) / start_mem))\n",
    "    \n",
    "    return df"
   ]
  },
  {
   "cell_type": "code",
   "execution_count": 67,
   "id": "432734a1",
   "metadata": {},
   "outputs": [
    {
     "name": "stdout",
     "output_type": "stream",
     "text": [
      "Memory usage of dataframe is 1304.43 MB\n",
      "Memory usage after optimization is: 717.94 MB\n",
      "Decreased by 45.0%\n"
     ]
    }
   ],
   "source": [
    "df = reduce_mem_usage(df)"
   ]
  },
  {
   "cell_type": "code",
   "execution_count": 68,
   "id": "cbcd2d58",
   "metadata": {
    "scrolled": true
   },
   "outputs": [],
   "source": [
    "X = df.drop('loan_status', axis=1)"
   ]
  },
  {
   "cell_type": "code",
   "execution_count": 69,
   "id": "88270681",
   "metadata": {},
   "outputs": [],
   "source": [
    "y = df['loan_status']"
   ]
  },
  {
   "cell_type": "code",
   "execution_count": 70,
   "id": "2e92646e",
   "metadata": {},
   "outputs": [],
   "source": [
    "mlflow.set_tracking_uri(\"http://127.0.0.1:8080\")"
   ]
  },
  {
   "cell_type": "code",
   "execution_count": 71,
   "id": "461c9185",
   "metadata": {
    "scrolled": true
   },
   "outputs": [
    {
     "data": {
      "application/vnd.jupyter.widget-view+json": {
       "model_id": "a107629856934c7d8d950cde01d6f687",
       "version_major": 2,
       "version_minor": 0
      },
      "text/plain": [
       "Downloading artifacts:   0%|          | 0/5 [00:00<?, ?it/s]"
      ]
     },
     "metadata": {},
     "output_type": "display_data"
    }
   ],
   "source": [
    "# Load model as a PyFuncModel.\n",
    "logged_model = 'runs:/d3d273fa1b5b4848a37e68f4d1655d9c/model'\n",
    "model = mlflow.sklearn.load_model(model_uri=logged_model)"
   ]
  },
  {
   "cell_type": "code",
   "execution_count": 72,
   "id": "e805eb80",
   "metadata": {},
   "outputs": [],
   "source": [
    "X_in = X.iloc[:300000]\n",
    "X_out = X.iloc[300000:]\n",
    "\n",
    "y_in = y.iloc[:300000]\n",
    "y_out = y.iloc[300000:]"
   ]
  },
  {
   "cell_type": "code",
   "execution_count": 74,
   "id": "97bf58b3",
   "metadata": {},
   "outputs": [],
   "source": [
    "from sklearn.model_selection import train_test_split"
   ]
  },
  {
   "cell_type": "code",
   "execution_count": 75,
   "id": "73dc1742",
   "metadata": {},
   "outputs": [],
   "source": [
    "random_seed = 42\n",
    "\n",
    "_, X_in, _, y_in = train_test_split(\n",
    "        X_in, y_in, test_size=0.3, random_state=random_seed, stratify=y_in)"
   ]
  },
  {
   "cell_type": "code",
   "execution_count": 76,
   "id": "f6753e9c",
   "metadata": {
    "scrolled": true
   },
   "outputs": [],
   "source": [
    "y_prob = model.predict_proba(X_in)[:, 1]"
   ]
  },
  {
   "cell_type": "code",
   "execution_count": 77,
   "id": "3c7a2da5",
   "metadata": {},
   "outputs": [],
   "source": [
    "threshold = []\n",
    "f1 = []\n",
    "for i in range(5, 35):\n",
    "    y_pred = np.where(y_prob > i/100, 1, 0)\n",
    "    threshold.append(i / 100)\n",
    "    f1.append(f1_score(y_in, y_pred))"
   ]
  },
  {
   "cell_type": "code",
   "execution_count": 78,
   "id": "a5198081",
   "metadata": {},
   "outputs": [],
   "source": [
    "best_threshold = threshold[np.argmax(f1)]"
   ]
  },
  {
   "cell_type": "code",
   "execution_count": 79,
   "id": "aecd05ff",
   "metadata": {
    "scrolled": false
   },
   "outputs": [
    {
     "data": {
      "text/plain": [
       "Text(0.5, 1.0, 'max f1 at threshold = 0.21')"
      ]
     },
     "execution_count": 79,
     "metadata": {},
     "output_type": "execute_result"
    },
    {
     "data": {
      "image/png": "[encoded data removed]",
      "text/plain": [
       "<Figure size 640x480 with 1 Axes>"
      ]
     },
     "metadata": {},
     "output_type": "display_data"
    }
   ],
   "source": [
    "plt.plot(threshold, f1, '--o')\n",
    "plt.title(f'max f1 at threshold = {best_threshold}')"
   ]
  },
  {
   "cell_type": "code",
   "execution_count": 80,
   "id": "a8b82c5f",
   "metadata": {},
   "outputs": [],
   "source": [
    "y_prob = model.predict_proba(X_out)[:, 1]"
   ]
  },
  {
   "cell_type": "code",
   "execution_count": 81,
   "id": "6b50f589",
   "metadata": {},
   "outputs": [],
   "source": [
    "best_pred = np.where(y_prob>best_threshold, 1, 0)"
   ]
  },
  {
   "cell_type": "code",
   "execution_count": 88,
   "id": "df1103ec",
   "metadata": {},
   "outputs": [],
   "source": [
    "mat = pd.DataFrame(confusion_matrix(y_out, best_pred))"
   ]
  },
  {
   "cell_type": "code",
   "execution_count": 90,
   "id": "26ba21e4",
   "metadata": {},
   "outputs": [],
   "source": [
    "mat.columns = ['fully paid', 'charged off']\n",
    "mat.index = ['fully paid', 'charged off']"
   ]
  },
  {
   "cell_type": "code",
   "execution_count": 92,
   "id": "f68b12d6",
   "metadata": {
    "scrolled": false
   },
   "outputs": [
    {
     "data": {
      "text/plain": [
       "Text(50.72222222222221, 0.5, 'true')"
      ]
     },
     "execution_count": 92,
     "metadata": {},
     "output_type": "execute_result"
    },
    {
     "data": {
      "image/png": "[encoded data removed]",
      "text/plain": [
       "<Figure size 640x480 with 2 Axes>"
      ]
     },
     "metadata": {},
     "output_type": "display_data"
    }
   ],
   "source": [
    "sns.heatmap(mat, annot=True, fmt='.0f')\n",
    "plt.xlabel('pred')\n",
    "plt.ylabel('true')"
   ]
  },
  {
   "cell_type": "code",
   "execution_count": 85,
   "id": "2e5b19e5",
   "metadata": {
    "scrolled": true
   },
   "outputs": [],
   "source": [
    "mat = confusion_matrix(y_out, best_pred)"
   ]
  },
  {
   "cell_type": "code",
   "execution_count": 86,
   "id": "7d15c794",
   "metadata": {
    "scrolled": true
   },
   "outputs": [
    {
     "data": {
      "text/plain": [
       "array([0.32133126, 0.67866874])"
      ]
     },
     "execution_count": 86,
     "metadata": {},
     "output_type": "execute_result"
    }
   ],
   "source": [
    "mat[1]/mat.sum(axis=1)[1]"
   ]
  },
  {
   "cell_type": "markdown",
   "id": "e14707af",
   "metadata": {},
   "source": [
    "Evaluate the performance by comparing the ROI"
   ]
  },
  {
   "cell_type": "code",
   "execution_count": 2,
   "id": "28a7c2e7",
   "metadata": {
    "collapsed": true
   },
   "outputs": [
    {
     "name": "stdout",
     "output_type": "stream",
     "text": [
      "Connected to MySQL Server\n"
     ]
    },
    {
     "name": "stderr",
     "output_type": "stream",
     "text": [
      "C:\\Users\\User\\AppData\\Local\\Temp\\ipykernel_18508\\2324452014.py:12: UserWarning: pandas only supports SQLAlchemy connectable (engine/connection) or database string URI or sqlite3 DBAPI2 connection. Other DBAPI2 objects are not tested. Please consider using SQLAlchemy.\n",
      "  eval_df_2 = pd.read_sql(\"SELECT ROI, IRR FROM matured_loan\", connection)\n"
     ]
    }
   ],
   "source": [
    "with open('db_config.json', 'r') as json_file:\n",
    "    db_config = json.load(json_file)\n",
    "\n",
    "try:\n",
    "    # Attempt to connect to the MySQL server\n",
    "    connection = mysql.connector.connect(**db_config)\n",
    "\n",
    "    # Check if the connection is successful\n",
    "    if connection.is_connected():\n",
    "        print(\"Connected to MySQL Server\")\n",
    "    \n",
    "    eval_df_2 = pd.read_sql(\"SELECT ROI, IRR FROM matured_loan\", connection)\n",
    "\n",
    "    # Close the connection\n",
    "    connection.close()\n",
    "\n",
    "except mysql.connector.Error as err:\n",
    "    print(f\"Error: {err}\")\n",
    "    print(\"Failed to connect to MySQL Server\")"
   ]
  },
  {
   "cell_type": "code",
   "execution_count": 116,
   "id": "233698f7",
   "metadata": {},
   "outputs": [],
   "source": [
    "eval_df = X_out.copy(deep=True)"
   ]
  },
  {
   "cell_type": "code",
   "execution_count": 117,
   "id": "09ddeade",
   "metadata": {},
   "outputs": [],
   "source": [
    "eval_df['true'] = y_out\n",
    "eval_df['pred'] = best_pred"
   ]
  },
  {
   "cell_type": "code",
   "execution_count": 124,
   "id": "84cb8b1f",
   "metadata": {
    "scrolled": false
   },
   "outputs": [],
   "source": [
    "eval_df = pd.concat([eval_df.iloc[:, -2:], eval_df_2.iloc[300000:]], axis=1)\n",
    "del eval_df_2"
   ]
  },
  {
   "cell_type": "code",
   "execution_count": 128,
   "id": "b697b587",
   "metadata": {},
   "outputs": [
    {
     "data": {
      "text/plain": [
       "0.5846498746470772"
      ]
     },
     "execution_count": 128,
     "metadata": {},
     "output_type": "execute_result"
    }
   ],
   "source": [
    "(eval_df.loc[eval_df['pred']==0, 'ROI'].mean() - eval_df.loc[:, 'ROI'].mean())/eval_df.loc[:, 'ROI'].mean()"
   ]
  }
 ],
 "metadata": {
  "kernelspec": {
   "display_name": "Python 3 (ipykernel)",
   "language": "python",
   "name": "python3"
  },
  "language_info": {
   "codemirror_mode": {
    "name": "ipython",
    "version": 3
   },
   "file_extension": ".py",
   "mimetype": "text/x-python",
   "name": "python",
   "nbconvert_exporter": "python",
   "pygments_lexer": "ipython3",
   "version": "3.11.5"
  }
 },
 "nbformat": 4,
 "nbformat_minor": 5
}
