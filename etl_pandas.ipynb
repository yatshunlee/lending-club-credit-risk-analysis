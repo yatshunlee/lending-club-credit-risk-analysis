{
 "cells": [
  {
   "cell_type": "code",
   "execution_count": 45,
   "id": "9c3e88db",
   "metadata": {},
   "outputs": [],
   "source": [
    "import numpy as np\n",
    "import pandas as pd"
   ]
  },
  {
   "cell_type": "code",
   "execution_count": 46,
   "id": "b5409b01",
   "metadata": {},
   "outputs": [],
   "source": [
    "import warnings\n",
    "warnings.filterwarnings('ignore')"
   ]
  },
  {
   "cell_type": "code",
   "execution_count": 47,
   "id": "8b56f4c1",
   "metadata": {
    "scrolled": false
   },
   "outputs": [
    {
     "data": {
      "text/html": [
       "<div>\n",
       "<style scoped>\n",
       "    .dataframe tbody tr th:only-of-type {\n",
       "        vertical-align: middle;\n",
       "    }\n",
       "\n",
       "    .dataframe tbody tr th {\n",
       "        vertical-align: top;\n",
       "    }\n",
       "\n",
       "    .dataframe thead th {\n",
       "        text-align: right;\n",
       "    }\n",
       "</style>\n",
       "<table border=\"1\" class=\"dataframe\">\n",
       "  <thead>\n",
       "    <tr style=\"text-align: right;\">\n",
       "      <th></th>\n",
       "      <th>loan_amnt</th>\n",
       "      <th>funded_amnt</th>\n",
       "      <th>funded_amnt_inv</th>\n",
       "      <th>term</th>\n",
       "      <th>int_rate</th>\n",
       "      <th>installment</th>\n",
       "      <th>grade</th>\n",
       "      <th>sub_grade</th>\n",
       "      <th>emp_title</th>\n",
       "      <th>emp_length</th>\n",
       "      <th>...</th>\n",
       "      <th>hardship_start_date</th>\n",
       "      <th>hardship_end_date</th>\n",
       "      <th>payment_plan_start_date</th>\n",
       "      <th>hardship_length</th>\n",
       "      <th>hardship_dpd</th>\n",
       "      <th>hardship_loan_status</th>\n",
       "      <th>orig_projected_additional_accrued_interest</th>\n",
       "      <th>hardship_payoff_balance_amount</th>\n",
       "      <th>hardship_last_payment_amount</th>\n",
       "      <th>debt_settlement_flag</th>\n",
       "    </tr>\n",
       "  </thead>\n",
       "  <tbody>\n",
       "    <tr>\n",
       "      <th>0</th>\n",
       "      <td>8500.0</td>\n",
       "      <td>8500.0</td>\n",
       "      <td>8500.0</td>\n",
       "      <td>36 months</td>\n",
       "      <td>7.89%</td>\n",
       "      <td>265.93</td>\n",
       "      <td>A</td>\n",
       "      <td>A5</td>\n",
       "      <td>General Manager</td>\n",
       "      <td>5 years</td>\n",
       "      <td>...</td>\n",
       "      <td>NaN</td>\n",
       "      <td>NaN</td>\n",
       "      <td>NaN</td>\n",
       "      <td>NaN</td>\n",
       "      <td>NaN</td>\n",
       "      <td>NaN</td>\n",
       "      <td>NaN</td>\n",
       "      <td>NaN</td>\n",
       "      <td>NaN</td>\n",
       "      <td>N</td>\n",
       "    </tr>\n",
       "    <tr>\n",
       "      <th>1</th>\n",
       "      <td>10000.0</td>\n",
       "      <td>10000.0</td>\n",
       "      <td>10000.0</td>\n",
       "      <td>36 months</td>\n",
       "      <td>11.05%</td>\n",
       "      <td>327.63</td>\n",
       "      <td>B</td>\n",
       "      <td>B4</td>\n",
       "      <td>NaN</td>\n",
       "      <td>NaN</td>\n",
       "      <td>...</td>\n",
       "      <td>NaN</td>\n",
       "      <td>NaN</td>\n",
       "      <td>NaN</td>\n",
       "      <td>NaN</td>\n",
       "      <td>NaN</td>\n",
       "      <td>NaN</td>\n",
       "      <td>NaN</td>\n",
       "      <td>NaN</td>\n",
       "      <td>NaN</td>\n",
       "      <td>N</td>\n",
       "    </tr>\n",
       "    <tr>\n",
       "      <th>2</th>\n",
       "      <td>14000.0</td>\n",
       "      <td>14000.0</td>\n",
       "      <td>14000.0</td>\n",
       "      <td>36 months</td>\n",
       "      <td>10.99%</td>\n",
       "      <td>458.28</td>\n",
       "      <td>B</td>\n",
       "      <td>B2</td>\n",
       "      <td>Sr. Account Executive</td>\n",
       "      <td>3 years</td>\n",
       "      <td>...</td>\n",
       "      <td>NaN</td>\n",
       "      <td>NaN</td>\n",
       "      <td>NaN</td>\n",
       "      <td>NaN</td>\n",
       "      <td>NaN</td>\n",
       "      <td>NaN</td>\n",
       "      <td>NaN</td>\n",
       "      <td>NaN</td>\n",
       "      <td>NaN</td>\n",
       "      <td>N</td>\n",
       "    </tr>\n",
       "    <tr>\n",
       "      <th>3</th>\n",
       "      <td>11000.0</td>\n",
       "      <td>11000.0</td>\n",
       "      <td>11000.0</td>\n",
       "      <td>36 months</td>\n",
       "      <td>11.99%</td>\n",
       "      <td>365.31</td>\n",
       "      <td>B</td>\n",
       "      <td>B3</td>\n",
       "      <td>NaN</td>\n",
       "      <td>&lt; 1 year</td>\n",
       "      <td>...</td>\n",
       "      <td>NaN</td>\n",
       "      <td>NaN</td>\n",
       "      <td>NaN</td>\n",
       "      <td>NaN</td>\n",
       "      <td>NaN</td>\n",
       "      <td>NaN</td>\n",
       "      <td>NaN</td>\n",
       "      <td>NaN</td>\n",
       "      <td>NaN</td>\n",
       "      <td>N</td>\n",
       "    </tr>\n",
       "    <tr>\n",
       "      <th>4</th>\n",
       "      <td>15000.0</td>\n",
       "      <td>15000.0</td>\n",
       "      <td>15000.0</td>\n",
       "      <td>36 months</td>\n",
       "      <td>8.39%</td>\n",
       "      <td>472.75</td>\n",
       "      <td>B</td>\n",
       "      <td>B1</td>\n",
       "      <td>Live Accounting Manager</td>\n",
       "      <td>10+ years</td>\n",
       "      <td>...</td>\n",
       "      <td>NaN</td>\n",
       "      <td>NaN</td>\n",
       "      <td>NaN</td>\n",
       "      <td>NaN</td>\n",
       "      <td>NaN</td>\n",
       "      <td>NaN</td>\n",
       "      <td>NaN</td>\n",
       "      <td>NaN</td>\n",
       "      <td>NaN</td>\n",
       "      <td>N</td>\n",
       "    </tr>\n",
       "    <tr>\n",
       "      <th>...</th>\n",
       "      <td>...</td>\n",
       "      <td>...</td>\n",
       "      <td>...</td>\n",
       "      <td>...</td>\n",
       "      <td>...</td>\n",
       "      <td>...</td>\n",
       "      <td>...</td>\n",
       "      <td>...</td>\n",
       "      <td>...</td>\n",
       "      <td>...</td>\n",
       "      <td>...</td>\n",
       "      <td>...</td>\n",
       "      <td>...</td>\n",
       "      <td>...</td>\n",
       "      <td>...</td>\n",
       "      <td>...</td>\n",
       "      <td>...</td>\n",
       "      <td>...</td>\n",
       "      <td>...</td>\n",
       "      <td>...</td>\n",
       "      <td>...</td>\n",
       "    </tr>\n",
       "    <tr>\n",
       "      <th>292544</th>\n",
       "      <td>25000.0</td>\n",
       "      <td>25000.0</td>\n",
       "      <td>25000.0</td>\n",
       "      <td>36 months</td>\n",
       "      <td>11.47%</td>\n",
       "      <td>824.05</td>\n",
       "      <td>B</td>\n",
       "      <td>B5</td>\n",
       "      <td>associate</td>\n",
       "      <td>1 year</td>\n",
       "      <td>...</td>\n",
       "      <td>NaN</td>\n",
       "      <td>NaN</td>\n",
       "      <td>NaN</td>\n",
       "      <td>NaN</td>\n",
       "      <td>NaN</td>\n",
       "      <td>NaN</td>\n",
       "      <td>NaN</td>\n",
       "      <td>NaN</td>\n",
       "      <td>NaN</td>\n",
       "      <td>Y</td>\n",
       "    </tr>\n",
       "    <tr>\n",
       "      <th>292545</th>\n",
       "      <td>24000.0</td>\n",
       "      <td>24000.0</td>\n",
       "      <td>24000.0</td>\n",
       "      <td>60 months</td>\n",
       "      <td>18.99%</td>\n",
       "      <td>622.45</td>\n",
       "      <td>D</td>\n",
       "      <td>D3</td>\n",
       "      <td>Counselor</td>\n",
       "      <td>3 years</td>\n",
       "      <td>...</td>\n",
       "      <td>NaN</td>\n",
       "      <td>NaN</td>\n",
       "      <td>NaN</td>\n",
       "      <td>NaN</td>\n",
       "      <td>NaN</td>\n",
       "      <td>NaN</td>\n",
       "      <td>NaN</td>\n",
       "      <td>NaN</td>\n",
       "      <td>NaN</td>\n",
       "      <td>N</td>\n",
       "    </tr>\n",
       "    <tr>\n",
       "      <th>292546</th>\n",
       "      <td>35000.0</td>\n",
       "      <td>35000.0</td>\n",
       "      <td>35000.0</td>\n",
       "      <td>60 months</td>\n",
       "      <td>13.58%</td>\n",
       "      <td>806.79</td>\n",
       "      <td>C</td>\n",
       "      <td>C2</td>\n",
       "      <td>STORE MANAGER</td>\n",
       "      <td>10+ years</td>\n",
       "      <td>...</td>\n",
       "      <td>May-2020</td>\n",
       "      <td>Jun-2020</td>\n",
       "      <td>Apr-2020</td>\n",
       "      <td>2.0</td>\n",
       "      <td>12.0</td>\n",
       "      <td>GRACE_CURRENT</td>\n",
       "      <td>540.43</td>\n",
       "      <td>24138.78</td>\n",
       "      <td>806.79</td>\n",
       "      <td>N</td>\n",
       "    </tr>\n",
       "    <tr>\n",
       "      <th>292547</th>\n",
       "      <td>30000.0</td>\n",
       "      <td>30000.0</td>\n",
       "      <td>30000.0</td>\n",
       "      <td>60 months</td>\n",
       "      <td>21.18%</td>\n",
       "      <td>814.65</td>\n",
       "      <td>E</td>\n",
       "      <td>E3</td>\n",
       "      <td>RN</td>\n",
       "      <td>6 years</td>\n",
       "      <td>...</td>\n",
       "      <td>NaN</td>\n",
       "      <td>NaN</td>\n",
       "      <td>NaN</td>\n",
       "      <td>NaN</td>\n",
       "      <td>NaN</td>\n",
       "      <td>NaN</td>\n",
       "      <td>NaN</td>\n",
       "      <td>NaN</td>\n",
       "      <td>NaN</td>\n",
       "      <td>N</td>\n",
       "    </tr>\n",
       "    <tr>\n",
       "      <th>292548</th>\n",
       "      <td>24000.0</td>\n",
       "      <td>24000.0</td>\n",
       "      <td>24000.0</td>\n",
       "      <td>36 months</td>\n",
       "      <td>7.90%</td>\n",
       "      <td>750.97</td>\n",
       "      <td>A</td>\n",
       "      <td>A4</td>\n",
       "      <td>Store Manager</td>\n",
       "      <td>2 years</td>\n",
       "      <td>...</td>\n",
       "      <td>NaN</td>\n",
       "      <td>NaN</td>\n",
       "      <td>NaN</td>\n",
       "      <td>NaN</td>\n",
       "      <td>NaN</td>\n",
       "      <td>NaN</td>\n",
       "      <td>NaN</td>\n",
       "      <td>NaN</td>\n",
       "      <td>NaN</td>\n",
       "      <td>N</td>\n",
       "    </tr>\n",
       "  </tbody>\n",
       "</table>\n",
       "<p>292549 rows × 140 columns</p>\n",
       "</div>"
      ],
      "text/plain": [
       "        loan_amnt  funded_amnt  funded_amnt_inv        term int_rate  \\\n",
       "0          8500.0       8500.0           8500.0   36 months    7.89%   \n",
       "1         10000.0      10000.0          10000.0   36 months   11.05%   \n",
       "2         14000.0      14000.0          14000.0   36 months   10.99%   \n",
       "3         11000.0      11000.0          11000.0   36 months   11.99%   \n",
       "4         15000.0      15000.0          15000.0   36 months    8.39%   \n",
       "...           ...          ...              ...         ...      ...   \n",
       "292544    25000.0      25000.0          25000.0   36 months   11.47%   \n",
       "292545    24000.0      24000.0          24000.0   60 months   18.99%   \n",
       "292546    35000.0      35000.0          35000.0   60 months   13.58%   \n",
       "292547    30000.0      30000.0          30000.0   60 months   21.18%   \n",
       "292548    24000.0      24000.0          24000.0   36 months    7.90%   \n",
       "\n",
       "        installment grade sub_grade                emp_title emp_length  ...  \\\n",
       "0            265.93     A        A5          General Manager    5 years  ...   \n",
       "1            327.63     B        B4                      NaN        NaN  ...   \n",
       "2            458.28     B        B2    Sr. Account Executive    3 years  ...   \n",
       "3            365.31     B        B3                      NaN   < 1 year  ...   \n",
       "4            472.75     B        B1  Live Accounting Manager  10+ years  ...   \n",
       "...             ...   ...       ...                      ...        ...  ...   \n",
       "292544       824.05     B        B5                associate     1 year  ...   \n",
       "292545       622.45     D        D3                Counselor    3 years  ...   \n",
       "292546       806.79     C        C2           STORE MANAGER   10+ years  ...   \n",
       "292547       814.65     E        E3                       RN    6 years  ...   \n",
       "292548       750.97     A        A4            Store Manager    2 years  ...   \n",
       "\n",
       "       hardship_start_date  hardship_end_date payment_plan_start_date  \\\n",
       "0                      NaN                NaN                     NaN   \n",
       "1                      NaN                NaN                     NaN   \n",
       "2                      NaN                NaN                     NaN   \n",
       "3                      NaN                NaN                     NaN   \n",
       "4                      NaN                NaN                     NaN   \n",
       "...                    ...                ...                     ...   \n",
       "292544                 NaN                NaN                     NaN   \n",
       "292545                 NaN                NaN                     NaN   \n",
       "292546            May-2020           Jun-2020                Apr-2020   \n",
       "292547                 NaN                NaN                     NaN   \n",
       "292548                 NaN                NaN                     NaN   \n",
       "\n",
       "       hardship_length hardship_dpd hardship_loan_status  \\\n",
       "0                  NaN          NaN                  NaN   \n",
       "1                  NaN          NaN                  NaN   \n",
       "2                  NaN          NaN                  NaN   \n",
       "3                  NaN          NaN                  NaN   \n",
       "4                  NaN          NaN                  NaN   \n",
       "...                ...          ...                  ...   \n",
       "292544             NaN          NaN                  NaN   \n",
       "292545             NaN          NaN                  NaN   \n",
       "292546             2.0         12.0        GRACE_CURRENT   \n",
       "292547             NaN          NaN                  NaN   \n",
       "292548             NaN          NaN                  NaN   \n",
       "\n",
       "       orig_projected_additional_accrued_interest  \\\n",
       "0                                             NaN   \n",
       "1                                             NaN   \n",
       "2                                             NaN   \n",
       "3                                             NaN   \n",
       "4                                             NaN   \n",
       "...                                           ...   \n",
       "292544                                        NaN   \n",
       "292545                                        NaN   \n",
       "292546                                     540.43   \n",
       "292547                                        NaN   \n",
       "292548                                        NaN   \n",
       "\n",
       "       hardship_payoff_balance_amount hardship_last_payment_amount  \\\n",
       "0                                 NaN                          NaN   \n",
       "1                                 NaN                          NaN   \n",
       "2                                 NaN                          NaN   \n",
       "3                                 NaN                          NaN   \n",
       "4                                 NaN                          NaN   \n",
       "...                               ...                          ...   \n",
       "292544                            NaN                          NaN   \n",
       "292545                            NaN                          NaN   \n",
       "292546                       24138.78                       806.79   \n",
       "292547                            NaN                          NaN   \n",
       "292548                            NaN                          NaN   \n",
       "\n",
       "       debt_settlement_flag  \n",
       "0                         N  \n",
       "1                         N  \n",
       "2                         N  \n",
       "3                         N  \n",
       "4                         N  \n",
       "...                     ...  \n",
       "292544                    Y  \n",
       "292545                    N  \n",
       "292546                    N  \n",
       "292547                    N  \n",
       "292548                    N  \n",
       "\n",
       "[292549 rows x 140 columns]"
      ]
     },
     "execution_count": 47,
     "metadata": {},
     "output_type": "execute_result"
    }
   ],
   "source": [
    "# loan = pd.read_csv('Loan_status_2007-2020Q3.csv').iloc[:, 1:]\n",
    "loan = pd.read_csv('loan_10%.csv').iloc[:, 1:]\n",
    "loan"
   ]
  },
  {
   "cell_type": "markdown",
   "id": "590a337e",
   "metadata": {},
   "source": [
    "some domain knowledge\n",
    "\n",
    "account types:\n",
    "- revolving account (rv/rev) and open revolving account\n",
    "    https://finance.yahoo.com/news/credit-101-revolving-account-160156744.html?guccounter=1&guce_referrer=aHR0cHM6Ly93d3cuYmluZy5jb20v&guce_referrer_sig=AQAAAC5tynIU9PSiuHiOsa8TUXN46hin0knyqXtRWEYZxFfiZt0min4vpyutMQhXwjLeGrNSBBmR5HNdJmnlQ6PzxMURqb_J4KINLWrbtxUU2yVXqQUi8mmTzfh1IQkXxeEm9RkSduAW2Wz2-nzYTqNMo2cRW0w8egEIcv1Hf171RAr7\n",
    "- installment account (il)\n",
    "- bankcard account (bc)\n",
    "- mortgage account\n",
    "\n",
    "ratio types:\n",
    "- util rate\n",
    "- dti\n",
    "- high credit / credit limit"
   ]
  },
  {
   "cell_type": "markdown",
   "id": "3bc67717",
   "metadata": {},
   "source": [
    "rename for standardizing the column names"
   ]
  },
  {
   "cell_type": "code",
   "execution_count": 48,
   "id": "35aefe66",
   "metadata": {},
   "outputs": [],
   "source": [
    "find = [\n",
    "    'mths_since_rcnt_il', 'mo_sin_rcnt_rev_tl_op', 'mo_sin_rcnt_tl', # rcnt and mo_sin_rcnt\n",
    "    'mths_since_recent_bc_dlq', 'pct_tl_nvr_dlq', # dlq\n",
    "    'mo_sin_old_il_acct', 'mo_sin_old_rev_tl_op', # mo_sin_old\n",
    "]\n",
    "replace = [\n",
    "    'mths_since_recent_il', 'mths_since_recent_rev_tl_op', 'mths_since_recent_tl', # recent and mths_since\n",
    "    'mths_since_recent_bc_delinq', 'percent_tl_nvr_deliq', # delinq\n",
    "    'mths_since_old_il_acct', 'mths_since_old_rev_tl_op' # mths_since_old\n",
    "]\n",
    "\n",
    "loan.rename(columns={\n",
    "    find[i]: replace[i] for i in range(len(find))\n",
    "}, inplace=True)\n",
    "\n",
    "del find, replace"
   ]
  },
  {
   "cell_type": "markdown",
   "id": "8e4817c7",
   "metadata": {},
   "source": [
    "change these back to datetime"
   ]
  },
  {
   "cell_type": "code",
   "execution_count": 49,
   "id": "5ed943bc",
   "metadata": {},
   "outputs": [],
   "source": [
    "datetime_columns = ['issue_d', 'earliest_cr_line', 'last_pymnt_d', 'next_pymnt_d',\n",
    "                    'last_credit_pull_d', 'sec_app_earliest_cr_line', 'hardship_start_date',\n",
    "                    'hardship_end_date', 'payment_plan_start_date']\n",
    "\n",
    "for col in datetime_columns:\n",
    "    loan[col] = pd.to_datetime(loan[col], format='%b-%Y')"
   ]
  },
  {
   "cell_type": "markdown",
   "id": "e1306fd4",
   "metadata": {},
   "source": [
    "remove loan data issued before 1-1-2013"
   ]
  },
  {
   "cell_type": "code",
   "execution_count": 50,
   "id": "1bcfc2ac",
   "metadata": {},
   "outputs": [],
   "source": [
    "loan['issue_d_year'] = loan['issue_d'].dt.year\n",
    "loan = loan[loan['issue_d_year'] > 2012]"
   ]
  },
  {
   "cell_type": "markdown",
   "id": "2644c767",
   "metadata": {},
   "source": [
    "change int_rate, revol_util from dd% to dd"
   ]
  },
  {
   "cell_type": "code",
   "execution_count": 51,
   "id": "e49b2b93",
   "metadata": {},
   "outputs": [],
   "source": [
    "loan['int_rate'] = loan['int_rate'].apply(\n",
    "    lambda x: float(x.strip().split('%')[0]) if pd.notnull(x) else np.nan\n",
    ")"
   ]
  },
  {
   "cell_type": "code",
   "execution_count": 52,
   "id": "51e186fe",
   "metadata": {
    "scrolled": true
   },
   "outputs": [],
   "source": [
    "loan['revol_util'] = loan['revol_util'].apply(\n",
    "    lambda x: float(x.strip().split('%')[0]) if pd.notnull(x) else np.nan\n",
    ")"
   ]
  },
  {
   "cell_type": "markdown",
   "id": "3ea8b6de",
   "metadata": {},
   "source": [
    "create a column for deciding if it is matured loan"
   ]
  },
  {
   "cell_type": "code",
   "execution_count": 53,
   "id": "5d5e6e42",
   "metadata": {},
   "outputs": [],
   "source": [
    "loan['is_matured_loan'] = loan['next_pymnt_d'].isna()"
   ]
  },
  {
   "cell_type": "code",
   "execution_count": 54,
   "id": "163389ea",
   "metadata": {
    "scrolled": false
   },
   "outputs": [],
   "source": [
    "loan = loan[loan['is_matured_loan']]"
   ]
  },
  {
   "cell_type": "markdown",
   "id": "e8640494",
   "metadata": {},
   "source": [
    "create functions to handle na"
   ]
  },
  {
   "cell_type": "code",
   "execution_count": 55,
   "id": "82bffc46",
   "metadata": {},
   "outputs": [],
   "source": [
    "# handling columns with missing value (not used)\n",
    "def check_dtype(df, col):\n",
    "    if df[col].dtype == 'object':\n",
    "        return 'object'\n",
    "    elif np.modf(df[col])[0].nunique() == 1:\n",
    "        return 'int'\n",
    "    else:\n",
    "        return 'float'"
   ]
  },
  {
   "cell_type": "code",
   "execution_count": 56,
   "id": "5fe09ee1",
   "metadata": {},
   "outputs": [],
   "source": [
    "# turn some into happens or not\n",
    "# e.g. for months since last delinquent, people have NA in their record as they never delinq.\n",
    "def convert_to_bin(df, col):\n",
    "    df[col + '_binary'] = (~df[col].isna()) * 1\n",
    "\n",
    "# fill na with most freq. values or empty / 0\n",
    "def fill_na(df, col, method):\n",
    "    if method == 'mode':\n",
    "        to_fill = df[col].value_counts().index[0]\n",
    "    elif method == 'mean':\n",
    "        to_fill = df[col].mean()\n",
    "    elif method == 'zero':\n",
    "        to_fill = 0\n",
    "    elif method == 'string':\n",
    "        to_fill = ''\n",
    "    else:\n",
    "        raise ValueError(\"method must be 'mode', 'mean', 'zero' or 'string'.\")\n",
    "    df[col].fillna(to_fill, inplace=True)"
   ]
  },
  {
   "cell_type": "code",
   "execution_count": 57,
   "id": "0a991f61",
   "metadata": {},
   "outputs": [],
   "source": [
    "# handle columns starting with 'mths_since'\n",
    "# motivation: e.g. NAN in number of months since the last delinquent = the applicant has a clean record\n",
    "# use binary variable to represent instead of number of months\n",
    "mths_since_to_drop = []\n",
    "\n",
    "for col in loan.columns:\n",
    "    if 'mths_since_' in col and col not in ['mths_since_recent_rev_tl_op', \n",
    "                                            'mths_since_recent_tl']:\n",
    "        convert_to_bin(loan, col)\n",
    "        mths_since_to_drop.append(col)"
   ]
  },
  {
   "cell_type": "code",
   "execution_count": 58,
   "id": "107774df",
   "metadata": {},
   "outputs": [],
   "source": [
    "# these are only able after 2015\n",
    "\n",
    "# ratio or balance\n",
    "for col in ['il_util', 'all_util', 'total_bal_il', 'max_bal_bc']:\n",
    "    fill_na(loan, col, 'mean')\n",
    "    \n",
    "# times\n",
    "for col in ['open_acc_6m', 'open_act_il', 'open_il_12m', 'open_il_24m',\n",
    "            'open_rv_12m', 'open_rv_24m', 'inq_fi', 'total_cu_tl', 'inq_last_12m']:\n",
    "    fill_na(loan, col, 'mode')"
   ]
  },
  {
   "cell_type": "code",
   "execution_count": 59,
   "id": "3f8820c6",
   "metadata": {},
   "outputs": [],
   "source": [
    "# fill by 0 in general\n",
    "for col in ['deferral_term']:\n",
    "    fill_na(loan, col, 'zero')"
   ]
  },
  {
   "cell_type": "code",
   "execution_count": 60,
   "id": "4ad1ac08",
   "metadata": {},
   "outputs": [],
   "source": [
    "# fill by max entry in general\n",
    "for col in ['emp_length', 'num_tl_120dpd_2m', 'hardship_flag',\n",
    "            'num_rev_accts', 'inq_last_6mths', 'zip_code']:\n",
    "    fill_na(loan, col, 'mode')"
   ]
  },
  {
   "cell_type": "code",
   "execution_count": 61,
   "id": "2b39af64",
   "metadata": {
    "scrolled": true
   },
   "outputs": [],
   "source": [
    "# fill by mean in general\n",
    "for col in ['percent_bc_gt_75', 'bc_util', 'revol_util', 'dti',\n",
    "            'percent_tl_nvr_deliq', 'avg_cur_bal', 'bc_open_to_buy']:\n",
    "    fill_na(loan, col, 'mean')"
   ]
  },
  {
   "cell_type": "code",
   "execution_count": 62,
   "id": "69fcfc4e",
   "metadata": {
    "scrolled": true
   },
   "outputs": [],
   "source": [
    "# fill by empty string in general\n",
    "for col in ['emp_title', 'title', 'purpose']:\n",
    "    fill_na(loan, col, 'string')"
   ]
  },
  {
   "cell_type": "markdown",
   "id": "eafe6e8d",
   "metadata": {},
   "source": [
    "create columns"
   ]
  },
  {
   "cell_type": "code",
   "execution_count": 63,
   "id": "991a0284",
   "metadata": {},
   "outputs": [],
   "source": [
    "# loan to income ratio\n",
    "loan['loan_ti'] = loan.loan_amnt / (loan.annual_inc + 1)\n",
    "\n",
    "# delinq to income ratio\n",
    "loan['deliq_ti'] = loan.delinq_amnt / (loan.annual_inc + 1)\n",
    "\n",
    "# last payment to income ratio\n",
    "loan['last_pymnt_ti'] = loan.last_pymnt_amnt / (loan.annual_inc + 1)\n",
    "\n",
    "# revol_bal to income ratio\n",
    "loan['revol_ti'] = loan.revol_bal / (loan.annual_inc + 1)\n",
    "\n",
    "# tot_cur_bal to income ratio\n",
    "loan['tot_cur_bal_ti'] = loan.tot_cur_bal / (loan.annual_inc + 1)\n",
    "\n",
    "# max_bal_bc to income ratio\n",
    "loan['max_bal_bc_ti'] = loan.max_bal_bc / (loan.annual_inc + 1)\n",
    "\n",
    "# avg_cur_bal to income ratio\n",
    "loan['avg_cur_bal_ti'] = loan.max_bal_bc / (loan.annual_inc + 1)\n",
    "\n",
    "# total_bal_ex_mort to income ratio\n",
    "loan['total_bal_ex_mort'] = loan.max_bal_bc / (loan.annual_inc + 1)\n",
    "\n",
    "# ratio of the number of open credit lines to the number of total credit lines in the borrower's credit file.\n",
    "loan['open_cl_ratio'] = loan['open_acc'] / loan['total_acc']"
   ]
  },
  {
   "cell_type": "markdown",
   "id": "ca7aa260",
   "metadata": {},
   "source": [
    "calculate installment"
   ]
  },
  {
   "cell_type": "code",
   "execution_count": 64,
   "id": "74d641e0",
   "metadata": {},
   "outputs": [],
   "source": [
    "def month_diff(a, b):\n",
    "    return 12 * (a.dt.year - b.dt.year) + (a.dt.month - b.dt.month)\n",
    "\n",
    "num_mths_to_pay = month_diff(\n",
    "    pd.to_datetime(loan.last_pymnt_d), \n",
    "    pd.to_datetime(loan.issue_d)\n",
    ")\n",
    "\n",
    "missing_num_mths_to_pay = loan[loan.last_pymnt_d.isna()].apply(\n",
    "    lambda x: x['total_pymnt']//x['installment'] if x['total_pymnt'] > 0 else 0, axis=1\n",
    ")\n",
    "\n",
    "num_mths_to_pay[num_mths_to_pay.isna()] = missing_num_mths_to_pay"
   ]
  },
  {
   "cell_type": "code",
   "execution_count": 65,
   "id": "e4d54f87",
   "metadata": {},
   "outputs": [],
   "source": [
    "p = loan['funded_amnt']\n",
    "r = loan['int_rate'] / 100\n",
    "n = loan['term'].apply(lambda x: int(x.strip()[:2]))\n",
    "\n",
    "loan['calculated_installment'] = p * (r/12) * (1+r/12)**n / ((1+r/12)**n - 1)"
   ]
  },
  {
   "cell_type": "code",
   "execution_count": 66,
   "id": "9a2a2e4b",
   "metadata": {},
   "outputs": [
    {
     "data": {
      "text/html": [
       "<div>\n",
       "<style scoped>\n",
       "    .dataframe tbody tr th:only-of-type {\n",
       "        vertical-align: middle;\n",
       "    }\n",
       "\n",
       "    .dataframe tbody tr th {\n",
       "        vertical-align: top;\n",
       "    }\n",
       "\n",
       "    .dataframe thead th {\n",
       "        text-align: right;\n",
       "    }\n",
       "</style>\n",
       "<table border=\"1\" class=\"dataframe\">\n",
       "  <thead>\n",
       "    <tr style=\"text-align: right;\">\n",
       "      <th></th>\n",
       "      <th>installment</th>\n",
       "      <th>calculated_installment</th>\n",
       "    </tr>\n",
       "  </thead>\n",
       "  <tbody>\n",
       "    <tr>\n",
       "      <th>0</th>\n",
       "      <td>265.93</td>\n",
       "      <td>265.927983</td>\n",
       "    </tr>\n",
       "    <tr>\n",
       "      <th>1</th>\n",
       "      <td>327.63</td>\n",
       "      <td>327.624004</td>\n",
       "    </tr>\n",
       "    <tr>\n",
       "      <th>2</th>\n",
       "      <td>458.28</td>\n",
       "      <td>458.275744</td>\n",
       "    </tr>\n",
       "    <tr>\n",
       "      <th>3</th>\n",
       "      <td>365.31</td>\n",
       "      <td>365.304872</td>\n",
       "    </tr>\n",
       "    <tr>\n",
       "      <th>4</th>\n",
       "      <td>472.75</td>\n",
       "      <td>472.748876</td>\n",
       "    </tr>\n",
       "    <tr>\n",
       "      <th>...</th>\n",
       "      <td>...</td>\n",
       "      <td>...</td>\n",
       "    </tr>\n",
       "    <tr>\n",
       "      <th>292543</th>\n",
       "      <td>428.11</td>\n",
       "      <td>428.103603</td>\n",
       "    </tr>\n",
       "    <tr>\n",
       "      <th>292544</th>\n",
       "      <td>824.05</td>\n",
       "      <td>824.043512</td>\n",
       "    </tr>\n",
       "    <tr>\n",
       "      <th>292545</th>\n",
       "      <td>622.45</td>\n",
       "      <td>622.441178</td>\n",
       "    </tr>\n",
       "    <tr>\n",
       "      <th>292547</th>\n",
       "      <td>814.65</td>\n",
       "      <td>814.641383</td>\n",
       "    </tr>\n",
       "    <tr>\n",
       "      <th>292548</th>\n",
       "      <td>750.97</td>\n",
       "      <td>750.966096</td>\n",
       "    </tr>\n",
       "  </tbody>\n",
       "</table>\n",
       "<p>176356 rows × 2 columns</p>\n",
       "</div>"
      ],
      "text/plain": [
       "        installment  calculated_installment\n",
       "0            265.93              265.927983\n",
       "1            327.63              327.624004\n",
       "2            458.28              458.275744\n",
       "3            365.31              365.304872\n",
       "4            472.75              472.748876\n",
       "...             ...                     ...\n",
       "292543       428.11              428.103603\n",
       "292544       824.05              824.043512\n",
       "292545       622.45              622.441178\n",
       "292547       814.65              814.641383\n",
       "292548       750.97              750.966096\n",
       "\n",
       "[176356 rows x 2 columns]"
      ]
     },
     "execution_count": 66,
     "metadata": {},
     "output_type": "execute_result"
    }
   ],
   "source": [
    "loan[['installment', 'calculated_installment']]"
   ]
  },
  {
   "cell_type": "markdown",
   "id": "acb9dbe9",
   "metadata": {},
   "source": [
    "calculate ROI\n",
    "\n",
    "The cash flow of a loan consists of five possible parts: Principal, interest, late fees, sales proceeds, and recovery amount.8 From the lender’s perspective, the typical set of cash flows for a loan may look like the following: {−P0, P1, . . . , PT }, consisting of an initial cash outflow P0 and monthly cash inflows {Pt, t ∈ {1, . . . , T}} until the loan is fully paid or charged off. We can approximate the monthly payments of a loan by the average monthly payment, i.e., the total payments received divided by the number of months between origination and the last payment. The cash flows for a portfolio of loans can be generated by summing up the cash flows of constituent loans\n",
    "\n",
    "The monthly payments information is not available in our dataset. We approximate the monthly payment based on loan origination date, last payment date, total payments, and collection recovery fee.\n",
    "\n",
    "- P0 = funded amount (the inital cashflow)\n",
    "- P1...PT are calculated from issue_d, last_pymnt_d, total_pymnt, collection_recovery_fee (charge off), recoveries"
   ]
  },
  {
   "cell_type": "code",
   "execution_count": 67,
   "id": "1bbc26c5",
   "metadata": {},
   "outputs": [],
   "source": [
    "# assume\n",
    "depreciation_rate = 0.02"
   ]
  },
  {
   "cell_type": "code",
   "execution_count": 68,
   "id": "b3887ba5",
   "metadata": {},
   "outputs": [],
   "source": [
    "tmp = pd.DataFrame({\n",
    "    'funded_amnt': loan['funded_amnt'] * -1,\n",
    "    'avg_pymnt': loan['total_pymnt'] / num_mths_to_pay,\n",
    "    'num_mths_to_pay': num_mths_to_pay.astype(int)\n",
    "})"
   ]
  },
  {
   "cell_type": "code",
   "execution_count": 69,
   "id": "58508a6c",
   "metadata": {},
   "outputs": [],
   "source": [
    "tmp.loc[tmp['num_mths_to_pay']==0, 'avg_pymnt'] = loan.loc[tmp['num_mths_to_pay']==0, 'last_pymnt_amnt']"
   ]
  },
  {
   "cell_type": "code",
   "execution_count": 70,
   "id": "1d09b047",
   "metadata": {},
   "outputs": [],
   "source": [
    "CDP = tmp['num_mths_to_pay'].apply(\n",
    "    lambda x: np.sum([(1+depreciation_rate/12)**(-t) for t in range(1, int(x)+1)])\n",
    ") * tmp['avg_pymnt']"
   ]
  },
  {
   "cell_type": "code",
   "execution_count": 71,
   "id": "80a0bc55",
   "metadata": {},
   "outputs": [],
   "source": [
    "# for those immediately paid right after issued\n",
    "CDP[(tmp['avg_pymnt']>0)&(tmp['num_mths_to_pay']==0)] = tmp['avg_pymnt'][(tmp['avg_pymnt']>0)&(tmp['num_mths_to_pay']==0)]"
   ]
  },
  {
   "cell_type": "code",
   "execution_count": 72,
   "id": "947b034f",
   "metadata": {},
   "outputs": [],
   "source": [
    "# approximately 6 months after last payment\n",
    "net_recoveries = loan['recoveries'] - loan['collection_recovery_fee']\n",
    "depreciated_net_recoveries = net_recoveries[net_recoveries>0] * \\\n",
    "                                tmp['num_mths_to_pay'][net_recoveries>0]\\\n",
    "                                    .apply(lambda x: 1/(1+depreciation_rate/12)**(x+6))\n",
    "\n",
    "CDP[net_recoveries>0] += depreciated_net_recoveries"
   ]
  },
  {
   "cell_type": "code",
   "execution_count": 73,
   "id": "4f2c989f",
   "metadata": {},
   "outputs": [],
   "source": [
    "ROI = ((CDP + tmp['funded_amnt']) / - tmp['funded_amnt'])"
   ]
  },
  {
   "cell_type": "code",
   "execution_count": 74,
   "id": "c340f9b5",
   "metadata": {},
   "outputs": [],
   "source": [
    "loan['ROI'] = ROI"
   ]
  },
  {
   "cell_type": "code",
   "execution_count": 75,
   "id": "978cae8f",
   "metadata": {},
   "outputs": [
    {
     "data": {
      "text/plain": [
       "<Axes: ylabel='Frequency'>"
      ]
     },
     "execution_count": 75,
     "metadata": {},
     "output_type": "execute_result"
    },
    {
     "data": {
      "image/png": "[encoded data removed]",
      "text/plain": [
       "<Figure size 640x480 with 1 Axes>"
      ]
     },
     "metadata": {},
     "output_type": "display_data"
    }
   ],
   "source": [
    "loan[\n",
    "    (loan.loan_status.str.contains('Fully'))&(loan.term.str.contains('36'))\n",
    "].ROI.plot.hist(bins=[-1+i*0.025 for i in range(80)])\n",
    "                      \n",
    "loan[\n",
    "    (loan.loan_status.str.contains('Charged'))&(loan.term.str.contains('36'))\n",
    "].ROI.plot.hist(bins=[-1+i*0.025 for i in range(80)])"
   ]
  },
  {
   "cell_type": "markdown",
   "id": "ded3c63e",
   "metadata": {},
   "source": [
    "calculate IRR"
   ]
  },
  {
   "cell_type": "code",
   "execution_count": 76,
   "id": "a358b842",
   "metadata": {},
   "outputs": [],
   "source": [
    "# For fully paid but they paid right after the loans were issued\n",
    "tmp.loc[(loan.issue_d == loan.last_pymnt_d)&(loan.loan_status.str.contains('Fully')), 'num_mths_to_pay'] = 1"
   ]
  },
  {
   "cell_type": "code",
   "execution_count": 77,
   "id": "65bf883a",
   "metadata": {
    "scrolled": true
   },
   "outputs": [],
   "source": [
    "cf = tmp.apply(lambda r: [r['funded_amnt']] + [r['avg_pymnt']]*int(r['num_mths_to_pay']), axis=1)"
   ]
  },
  {
   "cell_type": "code",
   "execution_count": 78,
   "id": "8bc4e944",
   "metadata": {},
   "outputs": [],
   "source": [
    "def irr(cash_flow):\n",
    "    \"\"\"\n",
    "    Solving this to get IRR:\n",
    "    p0 + p1 * (1 + IRR)^(-1) + p2 * (1 + IRR)^(-2) + ... + pn * (1 + IRR)^(-n) = 0 _ (*)\n",
    "\n",
    "    Let g = 1 + IRR and multiply (*) by g^n and you will get:\n",
    "    p0 * g^n + p1 * g^(n-1) + p2 * g^(n-2) + ... + pn = 0\n",
    "\n",
    "    Then solve the polynomial and get the positive roots\n",
    "    IRR = g - 1\n",
    "\n",
    "    :param: cash_flow: a stream of cash flow to pay and receive with a NPV = 0\n",
    "    \"\"\"\n",
    "    cash_flow = np.array(cash_flow)\n",
    "    same_sign = np.all(cash_flow > 0) if cash_flow[0] > 0 else np.all(cash_flow < 0)\n",
    "    if same_sign:\n",
    "        if len(cash_flow) == 1 and cash_flow[0] < 0:\n",
    "            return -1\n",
    "        \n",
    "        raise ValueError(\"cash_flow must contain positive and negative values\")\n",
    "\n",
    "    g = np.roots(cash_flow)\n",
    "    IRR = np.real(g[np.isreal(g)]) - 1\n",
    "\n",
    "    # realistic IRR\n",
    "    IRR = IRR[(IRR <= 1)&(IRR >= -1)]\n",
    "\n",
    "    # if no real solution\n",
    "    if len(IRR) == 0:\n",
    "        return np.nan\n",
    "\n",
    "    # if only one real solution\n",
    "    if len(IRR) == 1:\n",
    "        return IRR[0]\n",
    "\n",
    "    # check sign of all IRR solutions\n",
    "    same_sign = np.all(IRR > 0) if IRR[0] > 0 else np.all(IRR < 0)\n",
    "    \n",
    "    # if not the same, first filter potential IRR by comparing the total positive and negative cash flows\n",
    "    if not same_sign:\n",
    "        pos = sum(cash_flow[cash_flow>0])\n",
    "        neg = sum(cash_flow[cash_flow<0])\n",
    "        if pos > neg:\n",
    "            IRR = IRR[IRR > 0]\n",
    "    else:\n",
    "        IRR = IRR[IRR < 0]\n",
    "    \n",
    "    # pick the smallest one in magnitude and return\n",
    "    abs_IRR = np.abs(IRR)\n",
    "    return IRR[np.argmin(abs_IRR)]"
   ]
  },
  {
   "cell_type": "code",
   "execution_count": 79,
   "id": "ea3f70af",
   "metadata": {
    "scrolled": true
   },
   "outputs": [],
   "source": [
    "irr_res = cf.apply(irr)"
   ]
  },
  {
   "cell_type": "code",
   "execution_count": 80,
   "id": "29996191",
   "metadata": {},
   "outputs": [],
   "source": [
    "loan['IRR'] = irr_res"
   ]
  },
  {
   "cell_type": "code",
   "execution_count": 81,
   "id": "b4bf8ce8",
   "metadata": {
    "scrolled": true
   },
   "outputs": [
    {
     "name": "stdout",
     "output_type": "stream",
     "text": [
      "-0.0119083259575141 0.012321663432485946 -0.14345588867929962\n"
     ]
    }
   ],
   "source": [
    "print(loan.loc[(loan.term.str.contains('36')), 'IRR'].mean(),\n",
    "      loan.loc[(loan.term.str.contains('36'))&(loan.loan_status.str.contains('Fully')), 'IRR'].mean(),\n",
    "      loan.loc[(loan.term.str.contains('36'))&(loan.loan_status.str.contains('Charged')), 'IRR'].mean())"
   ]
  },
  {
   "cell_type": "markdown",
   "id": "71f770ed",
   "metadata": {},
   "source": [
    "drop irrelevant columns"
   ]
  },
  {
   "cell_type": "code",
   "execution_count": 82,
   "id": "e59b4d71",
   "metadata": {
    "scrolled": true
   },
   "outputs": [],
   "source": [
    "to_drop = [\n",
    "    col for col in loan.columns if \n",
    "        ('hardship' in col and 'hardship_flag' != col) or \n",
    "        ('mths_since_' in col and '_binary' not in col) or \n",
    "        ('sec_app' in col) or \n",
    "        ('joint' in col)\n",
    "        \n",
    "] + [\n",
    "    'orig_projected_additional_accrued_interest', \n",
    "    'payment_plan_start_date', 'pymnt_plan',\n",
    "    'issue_d_year', 'policy_code',\n",
    "    'next_pymnt_d', 'earliest_cr_line',\n",
    "    'url', 'last_credit_pull_d', 'last_pymnt_d'\n",
    "    \n",
    "] + mths_since_to_drop\n",
    "\n",
    "loan.drop(to_drop, axis=1, inplace=True)"
   ]
  },
  {
   "cell_type": "code",
   "execution_count": 83,
   "id": "1972214b",
   "metadata": {},
   "outputs": [],
   "source": [
    "class MissingValueError(Exception):\n",
    "    pass\n",
    "\n",
    "if loan.isna().sum().sum() > 0:\n",
    "    raise MissingValueError('Found missing value')"
   ]
  },
  {
   "cell_type": "code",
   "execution_count": 84,
   "id": "9159d661",
   "metadata": {},
   "outputs": [
    {
     "data": {
      "text/plain": [
       "(176356, 115)"
      ]
     },
     "execution_count": 84,
     "metadata": {},
     "output_type": "execute_result"
    }
   ],
   "source": [
    "loan.shape"
   ]
  },
  {
   "cell_type": "markdown",
   "id": "4c0bab0c",
   "metadata": {},
   "source": [
    "load to database"
   ]
  },
  {
   "cell_type": "code",
   "execution_count": 85,
   "id": "6ebb7c3b",
   "metadata": {},
   "outputs": [],
   "source": [
    "import json\n",
    "import mysql.connector\n",
    "from sqlalchemy import create_engine"
   ]
  },
  {
   "cell_type": "code",
   "execution_count": 86,
   "id": "34afef14",
   "metadata": {},
   "outputs": [
    {
     "name": "stdout",
     "output_type": "stream",
     "text": [
      "Connected to MySQL Server\n"
     ]
    }
   ],
   "source": [
    "with open('db_config.json', 'r') as json_file:\n",
    "    db_config = json.load(json_file)\n",
    "\n",
    "try:\n",
    "    # Attempt to connect to the MySQL server\n",
    "    connection = mysql.connector.connect(**db_config)\n",
    "\n",
    "    # Check if the connection is successful\n",
    "    if connection.is_connected():\n",
    "        print(\"Connected to MySQL Server\")\n",
    "        \n",
    "#     sql = \"DROP TABLE matured_loan\"\n",
    "#     cursor = connection.cursor()\n",
    "#     cursor.execute(sql)\n",
    "\n",
    "    # Close the connection\n",
    "    connection.close()\n",
    "\n",
    "except mysql.connector.Error as err:\n",
    "    print(f\"Error: {err}\")\n",
    "    print(\"Failed to connect to MySQL Server\")"
   ]
  },
  {
   "cell_type": "code",
   "execution_count": 87,
   "id": "0b56054d",
   "metadata": {},
   "outputs": [],
   "source": [
    "engine = create_engine(\n",
    "    f\"mysql+mysqlconnector://{db_config['user']}:{db_config['password']}@{db_config['host']}/{db_config['database']}\" #,\n",
    "#     pool_size=10,  # Adjust pool_size as needed\n",
    "#     max_overflow=20,  # Adjust max_overflow as needed\n",
    "#     connect_args={'connect_timeout': 30}  # Adjust the timeout value as needed\n",
    ")"
   ]
  },
  {
   "cell_type": "code",
   "execution_count": 88,
   "id": "12fe195b",
   "metadata": {},
   "outputs": [
    {
     "name": "stdout",
     "output_type": "stream",
     "text": [
      "Transaction committed successfully.\n"
     ]
    }
   ],
   "source": [
    "with engine.begin() as connection:\n",
    "    try:\n",
    "        table_name = 'matured_loan'\n",
    "\n",
    "        # Start an explicit control over transaction\n",
    "        tran = connection.begin()\n",
    "        \n",
    "        # Insert the DataFrame data into the MySQL table using explicit transaction in append mode\n",
    "        loan.to_sql(name=table_name, \n",
    "                    con=connection, \n",
    "                    if_exists='replace', \n",
    "                    chunksize=1000,\n",
    "                    index=False)\n",
    "        \n",
    "        # Commit the transaction explicitly if above insert statements work fine\n",
    "        tran.commit()\n",
    "        print(\"Transaction committed successfully.\")\n",
    "    except Exception as e:\n",
    "        # Roll back the transaction if any error occurs\n",
    "        tran.rollback()\n",
    "        print(\"Transaction rolled back due to an error:\", e)"
   ]
  },
  {
   "cell_type": "code",
   "execution_count": 89,
   "id": "099352c2",
   "metadata": {},
   "outputs": [],
   "source": [
    "connection.close()"
   ]
  },
  {
   "cell_type": "code",
   "execution_count": null,
   "id": "fdae6c20",
   "metadata": {},
   "outputs": [],
   "source": []
  }
 ],
 "metadata": {
  "kernelspec": {
   "display_name": "Python 3 (ipykernel)",
   "language": "python",
   "name": "python3"
  },
  "language_info": {
   "codemirror_mode": {
    "name": "ipython",
    "version": 3
   },
   "file_extension": ".py",
   "mimetype": "text/x-python",
   "name": "python",
   "nbconvert_exporter": "python",
   "pygments_lexer": "ipython3",
   "version": "3.11.5"
  }
 },
 "nbformat": 4,
 "nbformat_minor": 5
}
